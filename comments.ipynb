{
  "nbformat": 4,
  "nbformat_minor": 0,
  "metadata": {
    "colab": {
      "provenance": [],
      "authorship_tag": "ABX9TyO7TdRCzgA2zNDHd0BJytTO",
      "include_colab_link": true
    },
    "kernelspec": {
      "name": "python3",
      "display_name": "Python 3"
    },
    "language_info": {
      "name": "python"
    }
  },
  "cells": [
    {
      "cell_type": "markdown",
      "metadata": {
        "id": "view-in-github",
        "colab_type": "text"
      },
      "source": [
        "<a href=\"https://colab.research.google.com/github/dhruv3501/python_google-_Colab/blob/main/comments.ipynb\" target=\"_parent\"><img src=\"https://colab.research.google.com/assets/colab-badge.svg\" alt=\"Open In Colab\"/></a>"
      ]
    },
    {
      "cell_type": "code",
      "execution_count": 1,
      "metadata": {
        "colab": {
          "base_uri": "https://localhost:8080/"
        },
        "id": "xcO7Fnzq8W9I",
        "outputId": "2eb11d39-39bc-4386-f174-c8ddd3ce180e"
      },
      "outputs": [
        {
          "output_type": "stream",
          "name": "stdout",
          "text": [
            "hello world\n"
          ]
        }
      ],
      "source": [
        "#this is single line commenet\n",
        "\n",
        "print(\"hello world\")"
      ]
    },
    {
      "cell_type": "code",
      "source": [
        "'''\n",
        "This is a multi-line comment\n",
        "using triple single quotes.\n",
        "It can span multiple lines.\n",
        "'''\n",
        "\n",
        "\"\"\"\n",
        "This is another multi-line comment\n",
        "using triple double quotes.\n",
        "It also spans multiple lines.\n",
        "\"\"\"\n",
        "\n",
        "print(\"Hello, world!\")"
      ],
      "metadata": {
        "colab": {
          "base_uri": "https://localhost:8080/"
        },
        "id": "yJjV-njn86MG",
        "outputId": "0f739607-6885-4f45-9ce0-bbb54e4ba2ed"
      },
      "execution_count": 3,
      "outputs": [
        {
          "output_type": "stream",
          "name": "stdout",
          "text": [
            "Hello, world!\n"
          ]
        }
      ]
    },
    {
      "cell_type": "code",
      "source": [
        "i = 5 # this is inline comments"
      ],
      "metadata": {
        "id": "otjTOUBE9BMv"
      },
      "execution_count": null,
      "outputs": []
    }
  ]
}